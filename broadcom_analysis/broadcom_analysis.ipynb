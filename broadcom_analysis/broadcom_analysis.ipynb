{
 "cells": [
  {
   "cell_type": "code",
   "execution_count": 1,
   "id": "initial_id",
   "metadata": {
    "collapsed": true,
    "ExecuteTime": {
     "end_time": "2023-12-20T18:34:30.312763Z",
     "start_time": "2023-12-20T18:34:29.939749800Z"
    }
   },
   "outputs": [
    {
     "data": {
      "text/plain": "   PERMNO        date  Broadcom Ret   XLK Ret    sprtrn  risk free rate\n0   93002  2012-12-31     -0.093424 -0.003857  0.007068        0.000103\n1   93002  2013-01-31      0.130145  0.019064  0.050428        0.000022\n2   93002  2013-02-28     -0.043332  0.007823  0.011061        0.000054\n3   93002  2013-03-28      0.054646  0.025796  0.035988        0.000041\n4   93002  2013-04-30     -0.109749  0.017509  0.018086        0.000037",
      "text/html": "<div>\n<style scoped>\n    .dataframe tbody tr th:only-of-type {\n        vertical-align: middle;\n    }\n\n    .dataframe tbody tr th {\n        vertical-align: top;\n    }\n\n    .dataframe thead th {\n        text-align: right;\n    }\n</style>\n<table border=\"1\" class=\"dataframe\">\n  <thead>\n    <tr style=\"text-align: right;\">\n      <th></th>\n      <th>PERMNO</th>\n      <th>date</th>\n      <th>Broadcom Ret</th>\n      <th>XLK Ret</th>\n      <th>sprtrn</th>\n      <th>risk free rate</th>\n    </tr>\n  </thead>\n  <tbody>\n    <tr>\n      <th>0</th>\n      <td>93002</td>\n      <td>2012-12-31</td>\n      <td>-0.093424</td>\n      <td>-0.003857</td>\n      <td>0.007068</td>\n      <td>0.000103</td>\n    </tr>\n    <tr>\n      <th>1</th>\n      <td>93002</td>\n      <td>2013-01-31</td>\n      <td>0.130145</td>\n      <td>0.019064</td>\n      <td>0.050428</td>\n      <td>0.000022</td>\n    </tr>\n    <tr>\n      <th>2</th>\n      <td>93002</td>\n      <td>2013-02-28</td>\n      <td>-0.043332</td>\n      <td>0.007823</td>\n      <td>0.011061</td>\n      <td>0.000054</td>\n    </tr>\n    <tr>\n      <th>3</th>\n      <td>93002</td>\n      <td>2013-03-28</td>\n      <td>0.054646</td>\n      <td>0.025796</td>\n      <td>0.035988</td>\n      <td>0.000041</td>\n    </tr>\n    <tr>\n      <th>4</th>\n      <td>93002</td>\n      <td>2013-04-30</td>\n      <td>-0.109749</td>\n      <td>0.017509</td>\n      <td>0.018086</td>\n      <td>0.000037</td>\n    </tr>\n  </tbody>\n</table>\n</div>"
     },
     "execution_count": 1,
     "metadata": {},
     "output_type": "execute_result"
    }
   ],
   "source": [
    "import pandas as pd\n",
    "\n",
    "# Load the data file\n",
    "file_path = 'Broadcom.csv'\n",
    "broadcom_data = pd.read_csv(file_path)\n",
    "\n",
    "# Display the first few rows of the dataframe to understand its structure\n",
    "broadcom_data.head()"
   ]
  },
  {
   "cell_type": "code",
   "execution_count": 3,
   "outputs": [
    {
     "data": {
      "text/plain": "(0.02813293388429752,\n 0.08321634118596494,\n 1.0790725093211355,\n 0.01883476226647899,\n 0.0694250985970873)"
     },
     "execution_count": 3,
     "metadata": {},
     "output_type": "execute_result"
    }
   ],
   "source": [
    "import scipy.stats as stats\n",
    "\n",
    "broadcom_data['Excess Broadcom Ret'] = broadcom_data['Broadcom Ret'] - broadcom_data['risk free rate']\n",
    "broadcom_data['Excess Market Ret'] = broadcom_data['sprtrn'] - broadcom_data['risk free rate']\n",
    "\n",
    "# Risk Premium for Broadcom\n",
    "risk_premium_broadcom = broadcom_data['Excess Broadcom Ret'].mean()\n",
    "\n",
    "# Standard Deviation for Broadcom\n",
    "std_dev_broadcom = broadcom_data['Excess Broadcom Ret'].std()\n",
    "\n",
    "# Beta for Broadcom (using linear regression)\n",
    "slope, intercept, r_value, p_value, std_err = stats.linregress(broadcom_data['Excess Market Ret'], broadcom_data['Excess Broadcom Ret'])\n",
    "beta_broadcom = slope\n",
    "\n",
    "# Alpha for Broadcom (intercept from the regression)\n",
    "alpha_broadcom = intercept\n",
    "\n",
    "# Standard Deviation of residual\n",
    "residuals = broadcom_data['Excess Broadcom Ret'] - (alpha_broadcom + beta_broadcom * broadcom_data['Excess Market Ret'])\n",
    "std_dev_residual = residuals.std()\n",
    "\n",
    "risk_premium_broadcom, std_dev_broadcom, beta_broadcom, alpha_broadcom, std_dev_residual\n"
   ],
   "metadata": {
    "collapsed": false,
    "ExecuteTime": {
     "end_time": "2023-12-20T18:36:18.434188400Z",
     "start_time": "2023-12-20T18:36:17.924911800Z"
    }
   },
   "id": "db0a51191f4b809b"
  }
 ],
 "metadata": {
  "kernelspec": {
   "display_name": "Python 3",
   "language": "python",
   "name": "python3"
  },
  "language_info": {
   "codemirror_mode": {
    "name": "ipython",
    "version": 2
   },
   "file_extension": ".py",
   "mimetype": "text/x-python",
   "name": "python",
   "nbconvert_exporter": "python",
   "pygments_lexer": "ipython2",
   "version": "2.7.6"
  }
 },
 "nbformat": 4,
 "nbformat_minor": 5
}
