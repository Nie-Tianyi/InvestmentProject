{
 "cells": [
  {
   "cell_type": "markdown",
   "source": [
    "# Split the data get from the WRDS database"
   ],
   "metadata": {
    "collapsed": false
   },
   "id": "8905cca521a3f26f"
  },
  {
   "cell_type": "code",
   "execution_count": 2,
   "outputs": [],
   "source": [
    "import pandas as pd\n",
    "\n",
    "# Load the data\n",
    "file_path = 'return.csv' \n",
    "data = pd.read_csv(file_path)\n",
    "\n",
    "# Splitting the file by PERMNO and saving into separate CSVs\n",
    "for permno, group in data.groupby('PERMNO'):\n",
    "    output_file = f'./stock/PERMNO_{permno}.csv' \n",
    "    group.to_csv(output_file, index=False)\n"
   ],
   "metadata": {
    "collapsed": false,
    "ExecuteTime": {
     "end_time": "2023-11-21T19:42:15.167895700Z",
     "start_time": "2023-11-21T19:42:15.144046800Z"
    }
   },
   "id": "a6e6d7b1d719b99b"
  },
  {
   "cell_type": "markdown",
   "source": [
    "# analyze the data, calculate beta, total risk, Jensen's alpha, and Sharpe ratio"
   ],
   "metadata": {
    "collapsed": false
   },
   "id": "b4e0d4ff483991f2"
  },
  {
   "cell_type": "code",
   "execution_count": 3,
   "outputs": [
    {
     "data": {
      "text/plain": "   PERMNO        date       COMNAM       RET    sprtrn\n0   10104  2011-12-30  ORACLE CORP -0.181818  0.008533\n1   10104  2012-01-31  ORACLE CORP  0.102144  0.043583\n2   10104  2012-02-29  ORACLE CORP  0.037044  0.040589\n3   10104  2012-03-30  ORACLE CORP -0.003247  0.031332\n4   10104  2012-04-30  ORACLE CORP  0.010288 -0.007497",
      "text/html": "<div>\n<style scoped>\n    .dataframe tbody tr th:only-of-type {\n        vertical-align: middle;\n    }\n\n    .dataframe tbody tr th {\n        vertical-align: top;\n    }\n\n    .dataframe thead th {\n        text-align: right;\n    }\n</style>\n<table border=\"1\" class=\"dataframe\">\n  <thead>\n    <tr style=\"text-align: right;\">\n      <th></th>\n      <th>PERMNO</th>\n      <th>date</th>\n      <th>COMNAM</th>\n      <th>RET</th>\n      <th>sprtrn</th>\n    </tr>\n  </thead>\n  <tbody>\n    <tr>\n      <th>0</th>\n      <td>10104</td>\n      <td>2011-12-30</td>\n      <td>ORACLE CORP</td>\n      <td>-0.181818</td>\n      <td>0.008533</td>\n    </tr>\n    <tr>\n      <th>1</th>\n      <td>10104</td>\n      <td>2012-01-31</td>\n      <td>ORACLE CORP</td>\n      <td>0.102144</td>\n      <td>0.043583</td>\n    </tr>\n    <tr>\n      <th>2</th>\n      <td>10104</td>\n      <td>2012-02-29</td>\n      <td>ORACLE CORP</td>\n      <td>0.037044</td>\n      <td>0.040589</td>\n    </tr>\n    <tr>\n      <th>3</th>\n      <td>10104</td>\n      <td>2012-03-30</td>\n      <td>ORACLE CORP</td>\n      <td>-0.003247</td>\n      <td>0.031332</td>\n    </tr>\n    <tr>\n      <th>4</th>\n      <td>10104</td>\n      <td>2012-04-30</td>\n      <td>ORACLE CORP</td>\n      <td>0.010288</td>\n      <td>-0.007497</td>\n    </tr>\n  </tbody>\n</table>\n</div>"
     },
     "execution_count": 3,
     "metadata": {},
     "output_type": "execute_result"
    }
   ],
   "source": [
    "import pandas as pd\n",
    "\n",
    "# Load the provided file\n",
    "file_path = './stock/PERMNO_10104.csv'\n",
    "data_10104 = pd.read_csv(file_path)\n",
    "\n",
    "# Display the first few rows of the data to understand its structure\n",
    "data_10104.head()\n"
   ],
   "metadata": {
    "collapsed": false,
    "ExecuteTime": {
     "end_time": "2023-11-22T04:11:42.604095200Z",
     "start_time": "2023-11-22T04:11:42.292780400Z"
    }
   },
   "id": "32851d3a8e6b0c35"
  },
  {
   "cell_type": "code",
   "execution_count": 6,
   "outputs": [
    {
     "data": {
      "text/plain": "(1.6247510132530196,\n 0.09756258140924692,\n 0.00855579647172558,\n 0.21586281010188596)"
     },
     "execution_count": 6,
     "metadata": {},
     "output_type": "execute_result"
    }
   ],
   "source": [
    "from scipy import stats\n",
    "import matplotlib.pyplot as plt\n",
    "import numpy as np\n",
    "\n",
    "def analyze_stock(PERMNO, risk_free_rate=0.02):\n",
    "    PERMNO = str(PERMNO)\n",
    "    path = f'./stock/PERMNO_{PERMNO}.csv'\n",
    "    data = pd.read_csv(path)\n",
    "    data['date'] = pd.to_datetime(data['date'])\n",
    "    data['sprtrn'] = pd.to_numeric(data['sprtrn'], errors='coerce')\n",
    "    data['RET'] = pd.to_numeric(data['RET'], errors='coerce')\n",
    "    data.dropna(subset=['sprtrn', 'RET'], inplace=True)\n",
    "    monthly_risk_free_rate = (1 + risk_free_rate) ** (1 / 12) - 1\n",
    "    slope, intercept, r_value, p_value, std_err = stats.linregress(data['sprtrn'], data['RET'])\n",
    "    beta = slope\n",
    "    total_risk = data['RET'].std()\n",
    "    expected_return = monthly_risk_free_rate + beta * (data['sprtrn'] - monthly_risk_free_rate)\n",
    "    jensens_alpha = (data['RET'] - expected_return).mean()\n",
    "    excess_return = data['RET'] - monthly_risk_free_rate\n",
    "    sharpe_ratio = excess_return.mean() / excess_return.std()\n",
    "    \n",
    "    # Adjusting the plot to have the x and y-axis intersect at (0,0)\n",
    "\n",
    "    plt.figure(figsize=(10, 6))\n",
    "    \n",
    "    # Scatter plot of market returns vs stock returns\n",
    "    plt.scatter(data['sprtrn'], data['RET'], color='blue', label='Data Points')\n",
    "    \n",
    "    # Regression line\n",
    "    plt.plot(data['sprtrn'], intercept + slope * data['sprtrn'], color='red', label='SCL Line')\n",
    "    \n",
    "    plt.title(f'Security Characteristic Line (SCL) for PERMNO {PERMNO}')\n",
    "    plt.xlabel('Market Returns (S&P 500)')\n",
    "    plt.ylabel(f'Stock Returns (PERMNO {PERMNO})')\n",
    "    \n",
    "    # Set x and y axis to intersect at (0,0)\n",
    "    plt.axhline(0, color='black',linewidth=0.8)\n",
    "    plt.axvline(0, color='black',linewidth=0.8)\n",
    "    \n",
    "    plt.legend()\n",
    "    plt.grid(True)\n",
    "    \n",
    "    plt.savefig(f'./stock/PERMNO_{PERMNO}.png')\n",
    "    # plt.show()\n",
    "    plt.close()\n",
    "\n",
    "    \n",
    "    return beta, total_risk, jensens_alpha, sharpe_ratio\n",
    "\n",
    "analyze_stock(14702)"
   ],
   "metadata": {
    "collapsed": false,
    "ExecuteTime": {
     "end_time": "2023-11-22T04:20:41.527999Z",
     "start_time": "2023-11-22T04:20:41.454481600Z"
    }
   },
   "id": "10b3f9e9a8d3ffb5"
  },
  {
   "cell_type": "code",
   "execution_count": 7,
   "outputs": [],
   "source": [
    "PERMNO_numbers = [10104,10107,13407,14593,14655,14702,15488,15579,17685,17972,18484,53613,59328,61241,75510,75754,76076,76201,77178,78975,84788,86580,88360,88362,89393,90215,90319,90857,92221,93002,93436]\n",
    "\n",
    "with open('result.csv','w') as f:\n",
    "    f.write('PERMNO,beta,total_risk,jensens_alpha,sharpe_ratio\\n')\n",
    "    for PERMNO in PERMNO_numbers:\n",
    "        beta, total_risk, jensens_alpha, sharpe_ratio= analyze_stock(PERMNO)\n",
    "        f.write(f'{PERMNO},{beta},{total_risk},{jensens_alpha},{sharpe_ratio}\\n')\n",
    "    "
   ],
   "metadata": {
    "collapsed": false,
    "ExecuteTime": {
     "end_time": "2023-11-22T04:20:45.598729800Z",
     "start_time": "2023-11-22T04:20:43.384110400Z"
    }
   },
   "id": "d2bab84493c115e"
  }
 ],
 "metadata": {
  "kernelspec": {
   "display_name": "Python 3",
   "language": "python",
   "name": "python3"
  },
  "language_info": {
   "codemirror_mode": {
    "name": "ipython",
    "version": 2
   },
   "file_extension": ".py",
   "mimetype": "text/x-python",
   "name": "python",
   "nbconvert_exporter": "python",
   "pygments_lexer": "ipython2",
   "version": "2.7.6"
  }
 },
 "nbformat": 4,
 "nbformat_minor": 5
}
