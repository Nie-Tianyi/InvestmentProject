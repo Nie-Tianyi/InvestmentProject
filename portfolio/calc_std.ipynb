{
 "cells": [
  {
   "cell_type": "code",
   "execution_count": 1,
   "id": "initial_id",
   "metadata": {
    "collapsed": true,
    "ExecuteTime": {
     "end_time": "2023-12-03T22:41:36.264268800Z",
     "start_time": "2023-12-03T22:41:35.384437100Z"
    }
   },
   "outputs": [
    {
     "data": {
      "text/plain": "   PERMNO        date  Broadcom Ret   XLK Ret\n0   93002  2012-12-31     -0.093424 -0.003857\n1   93002  2013-01-31      0.130145  0.019064\n2   93002  2013-02-28     -0.043332  0.007823\n3   93002  2013-03-28      0.054646  0.025796\n4   93002  2013-04-30     -0.109749  0.017509",
      "text/html": "<div>\n<style scoped>\n    .dataframe tbody tr th:only-of-type {\n        vertical-align: middle;\n    }\n\n    .dataframe tbody tr th {\n        vertical-align: top;\n    }\n\n    .dataframe thead th {\n        text-align: right;\n    }\n</style>\n<table border=\"1\" class=\"dataframe\">\n  <thead>\n    <tr style=\"text-align: right;\">\n      <th></th>\n      <th>PERMNO</th>\n      <th>date</th>\n      <th>Broadcom Ret</th>\n      <th>XLK Ret</th>\n    </tr>\n  </thead>\n  <tbody>\n    <tr>\n      <th>0</th>\n      <td>93002</td>\n      <td>2012-12-31</td>\n      <td>-0.093424</td>\n      <td>-0.003857</td>\n    </tr>\n    <tr>\n      <th>1</th>\n      <td>93002</td>\n      <td>2013-01-31</td>\n      <td>0.130145</td>\n      <td>0.019064</td>\n    </tr>\n    <tr>\n      <th>2</th>\n      <td>93002</td>\n      <td>2013-02-28</td>\n      <td>-0.043332</td>\n      <td>0.007823</td>\n    </tr>\n    <tr>\n      <th>3</th>\n      <td>93002</td>\n      <td>2013-03-28</td>\n      <td>0.054646</td>\n      <td>0.025796</td>\n    </tr>\n    <tr>\n      <th>4</th>\n      <td>93002</td>\n      <td>2013-04-30</td>\n      <td>-0.109749</td>\n      <td>0.017509</td>\n    </tr>\n  </tbody>\n</table>\n</div>"
     },
     "execution_count": 1,
     "metadata": {},
     "output_type": "execute_result"
    }
   ],
   "source": [
    "import pandas as pd\n",
    "\n",
    "data = pd.read_csv('Broadcom.csv')\n",
    "\n",
    "data.head()"
   ]
  },
  {
   "cell_type": "code",
   "execution_count": 3,
   "outputs": [
    {
     "name": "stdout",
     "output_type": "stream",
     "text": [
      "Variance of Broadcom:  0.006909444376133333\n",
      "Mean of Broadcom:  0.028690909090909086\n",
      "Variance of XLK:  0.002592255833013361\n",
      "Mean of XLK:  0.01462710743801653\n",
      "Covariance:  0.0024223370377181815\n",
      "Correlation:  0.5723663285717817\n"
     ]
    }
   ],
   "source": [
    "variance_broadcom = data['Broadcom Ret'].var()\n",
    "mean_broadcom = data['Broadcom Ret'].mean()\n",
    "\n",
    "variance_xlk = data['XLK Ret'].var()\n",
    "mean_xlk = data['XLK Ret'].mean()\n",
    "\n",
    "covariance = data['Broadcom Ret'].cov(data['XLK Ret'])\n",
    "correlation = data['Broadcom Ret'].corr(data['XLK Ret'])\n",
    "\n",
    "print('Variance of Broadcom: ', variance_broadcom)\n",
    "print('Mean of Broadcom: ', mean_broadcom)\n",
    "print('Variance of XLK: ', variance_xlk)\n",
    "print('Mean of XLK: ', mean_xlk)\n",
    "print('Covariance: ', covariance)\n",
    "print('Correlation: ', correlation)"
   ],
   "metadata": {
    "collapsed": false,
    "ExecuteTime": {
     "end_time": "2023-12-03T22:47:37.072123500Z",
     "start_time": "2023-12-03T22:47:37.063358Z"
    }
   },
   "id": "e951f1472a9293a3"
  },
  {
   "cell_type": "markdown",
   "source": [],
   "metadata": {
    "collapsed": false
   },
   "id": "8dfc232248fb2e4e"
  },
  {
   "cell_type": "code",
   "execution_count": null,
   "outputs": [],
   "source": [],
   "metadata": {
    "collapsed": false
   },
   "id": "7bcc99f5c6ad421e"
  }
 ],
 "metadata": {
  "kernelspec": {
   "display_name": "Python 3",
   "language": "python",
   "name": "python3"
  },
  "language_info": {
   "codemirror_mode": {
    "name": "ipython",
    "version": 2
   },
   "file_extension": ".py",
   "mimetype": "text/x-python",
   "name": "python",
   "nbconvert_exporter": "python",
   "pygments_lexer": "ipython2",
   "version": "2.7.6"
  }
 },
 "nbformat": 4,
 "nbformat_minor": 5
}
